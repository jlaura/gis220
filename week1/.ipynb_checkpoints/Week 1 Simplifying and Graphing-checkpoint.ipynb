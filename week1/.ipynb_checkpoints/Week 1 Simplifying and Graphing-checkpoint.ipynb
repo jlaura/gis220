{
 "cells": [
  {
   "cell_type": "markdown",
   "metadata": {},
   "source": [
    "# Week 1 coding examples"
   ]
  },
  {
   "cell_type": "code",
   "execution_count": 1,
   "metadata": {
    "collapsed": true
   },
   "outputs": [],
   "source": [
    "import sympy\n",
    "from sympy import symbol"
   ]
  },
  {
   "cell_type": "markdown",
   "metadata": {},
   "source": [
    "We are going to use a symbolic mathematics library, written in Python, to explore some of the concepts from assignment 1.  I would suggest working through the assignments by hand as it is more important that you udnerstand _how_ and _why_ the simplification or graphing works."
   ]
  },
  {
   "cell_type": "markdown",
   "metadata": {},
   "source": [
    "# Simplify (solve)\n",
    "Assume a function $4x + 2 = 16$.  I realize this example is trivial, but the method for solving it using symbolic notation holds for much more complex problems.\n",
    "\n",
    "P.S. This function should look familiar..."
   ]
  },
  {
   "cell_type": "code",
   "execution_count": 3,
   "metadata": {
    "collapsed": false
   },
   "outputs": [
    {
     "name": "stdout",
     "output_type": "stream",
     "text": [
      "4*x - 14\n",
      "The solution is [7/2]\n"
     ]
    }
   ],
   "source": [
    "x = symbol.Symbol('x') #Define the symbol\n",
    "func = 4 * x + 2 - 16 #Define the function\n",
    "print func # So sympy is simplifying for us already...\n",
    "solution = sympy.solve(func) # And solve\n",
    "print \"The solution is {}\".format(solution)"
   ]
  },
  {
   "cell_type": "markdown",
   "metadata": {},
   "source": [
    "# Graphing\n",
    "\n",
    "Often, it is important to visualize the behavior of a function.  SymPy leverages MatPlotLib to provide some pretty convenient graphing capabilities.\n",
    "\n",
    "Assume the function (that should again look familiar) $f(x) = \\sqrt{x} - 2$"
   ]
  },
  {
   "cell_type": "code",
   "execution_count": 4,
   "metadata": {
    "collapsed": false
   },
   "outputs": [
    {
     "name": "stdout",
     "output_type": "stream",
     "text": [
      "Populating the interactive namespace from numpy and matplotlib\n"
     ]
    }
   ],
   "source": [
    "%pylab inline\n",
    "#Just a directive to plot inside the notebook"
   ]
  },
  {
   "cell_type": "code",
   "execution_count": 5,
   "metadata": {
    "collapsed": false
   },
   "outputs": [
    {
     "data": {
      "image/png": "[encoded data removed]",
      "text/plain": [
       "<matplotlib.figure.Figure at 0x109613710>"
      ]
     },
     "metadata": {},
     "output_type": "display_data"
    },
    {
     "data": {
      "text/plain": [
       "<sympy.plotting.plot.Plot at 0x106942210>"
      ]
     },
     "execution_count": 5,
     "metadata": {},
     "output_type": "execute_result"
    }
   ],
   "source": [
    "from sympy import sqrt\n",
    "func = sqrt(x) - 2 #Define the function\n",
    "\n",
    "sympy.plotting.plot(func, (x, 0, 10)) #Syntax is (function, (value, left x limit, right x limit))"
   ]
  },
  {
   "cell_type": "code",
   "execution_count": null,
   "metadata": {
    "collapsed": true
   },
   "outputs": [],
   "source": []
  }
 ],
 "metadata": {
  "kernelspec": {
   "display_name": "Python 2",
   "language": "python",
   "name": "python2"
  },
  "language_info": {
   "codemirror_mode": {
    "name": "ipython",
    "version": 2
   },
   "file_extension": ".py",
   "mimetype": "text/x-python",
   "name": "python",
   "nbconvert_exporter": "python",
   "pygments_lexer": "ipython2",
   "version": "2.7.10"
  }
 },
 "nbformat": 4,
 "nbformat_minor": 0
}
