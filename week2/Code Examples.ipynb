{
 "cells": [
  {
   "cell_type": "markdown",
   "metadata": {},
   "source": [
    "# Week 2 Jupyter notebook examples"
   ]
  },
  {
   "cell_type": "code",
   "execution_count": 1,
   "metadata": {
    "collapsed": true
   },
   "outputs": [],
   "source": [
    "import sympy"
   ]
  },
  {
   "cell_type": "markdown",
   "metadata": {},
   "source": [
    "Using a symbolic math library, I am going to compute some limits.  I suggest that you do these by hand initially, to ensure that you understand _why_ and _how_ limits works.  The raw computation is secondary.\n",
    "\n",
    "Here is the first question from your assignment.  I suspect that the 'plug-and-evaluate' method would be sufficient, so this is overkill."
   ]
  },
  {
   "cell_type": "markdown",
   "metadata": {},
   "source": [
    " #### Question 1\n",
    " Evaluate: $\\lim_{x \\to 0} x^{2}$"
   ]
  },
  {
   "cell_type": "code",
   "execution_count": 2,
   "metadata": {
    "collapsed": true
   },
   "outputs": [],
   "source": [
    "import inspect #Just because I want to show you the documentation"
   ]
  },
  {
   "cell_type": "code",
   "execution_count": 3,
   "metadata": {
    "collapsed": false
   },
   "outputs": [
    {
     "name": "stdout",
     "output_type": "stream",
     "text": [
      "Compute the limit of e(z) at the point z0.\n",
      "\n",
      "z0 can be any expression, including oo and -oo.\n",
      "\n",
      "For dir=\"+\" (default) it calculates the limit from the right\n",
      "(z->z0+) and for dir=\"-\" the limit from the left (z->z0-).  For infinite\n",
      "z0 (oo or -oo), the dir argument is determined from the direction\n",
      "of the infinity (i.e., dir=\"-\" for oo).\n",
      "\n",
      "Examples\n",
      "========\n",
      "\n",
      ">>> from sympy import limit, sin, Symbol, oo\n",
      ">>> from sympy.abc import x\n",
      ">>> limit(sin(x)/x, x, 0)\n",
      "1\n",
      ">>> limit(1/x, x, 0, dir=\"+\")\n",
      "oo\n",
      ">>> limit(1/x, x, 0, dir=\"-\")\n",
      "-oo\n",
      ">>> limit(1/x, x, oo)\n",
      "0\n",
      "\n",
      "Notes\n",
      "=====\n",
      "\n",
      "First we try some heuristics for easy and frequent cases like \"x\", \"1/x\",\n",
      "\"x**2\" and similar, so that it's fast. For all other cases, we use the\n",
      "Gruntz algorithm (see the gruntz() function).\n"
     ]
    }
   ],
   "source": [
    "print inspect.getdoc(sympy.limit)"
   ]
  },
  {
   "cell_type": "markdown",
   "metadata": {},
   "source": [
    "#### On with the example\n",
    "So, we need to supply the function in symbolic notation, the variable (e.g. x), and a point (e.g. the value)"
   ]
  },
  {
   "cell_type": "code",
   "execution_count": 4,
   "metadata": {
    "collapsed": false
   },
   "outputs": [
    {
     "name": "stdout",
     "output_type": "stream",
     "text": [
      "The limit is 0.\n"
     ]
    }
   ],
   "source": [
    "x = sympy.Symbol('x') # Define the symbol\n",
    "limit = sympy.limit(x**2, x, 0) # Compute the limit\n",
    "print 'The limit is {}.'.format(limit) # Print the result"
   ]
  },
  {
   "cell_type": "markdown",
   "metadata": {},
   "source": [
    "#### Infinity\n",
    "\n",
    "Do you might be asking, what about infinity?"
   ]
  },
  {
   "cell_type": "code",
   "execution_count": 5,
   "metadata": {
    "collapsed": true
   },
   "outputs": [],
   "source": [
    "from sympy import oo #Import the symbolic notation for infinity."
   ]
  },
  {
   "cell_type": "markdown",
   "metadata": {},
   "source": [
    "Now we are going to solve a limit to infinity (problem 2 from https://www.math.ucdavis.edu/~kouba/CalcOneDIRECTORY/liminfdirectory/LimitInfinity.html)\n",
    "\n",
    "$\\lim_{x\\to\\infty} \\frac{7}{(x^{3} - 20)}$"
   ]
  },
  {
   "cell_type": "code",
   "execution_count": 6,
   "metadata": {
    "collapsed": false
   },
   "outputs": [
    {
     "name": "stdout",
     "output_type": "stream",
     "text": [
      "The limit is 0.\n"
     ]
    }
   ],
   "source": [
    "func = 7 / (x ** 3 - 20) #define the function\n",
    "limit = sympy.limit(func, x, oo)\n",
    "print 'The limit is {}.'.format(limit)"
   ]
  },
  {
   "cell_type": "markdown",
   "metadata": {},
   "source": [
    "# Plotting\n",
    "Often it is helpful to be able to visualize limits.  This is especially true when dealing with discontinuities.\n",
    "\n",
    "Obligatory link to some documentation: http://docs.sympy.org/dev/modules/plotting.html"
   ]
  },
  {
   "cell_type": "code",
   "execution_count": 7,
   "metadata": {
    "collapsed": false
   },
   "outputs": [
    {
     "name": "stdout",
     "output_type": "stream",
     "text": [
      "Populating the interactive namespace from numpy and matplotlib\n"
     ]
    }
   ],
   "source": [
    "%pylab inline \n",
    "# This is just a directive to force the plots to be embedded as png into the notebook."
   ]
  },
  {
   "cell_type": "code",
   "execution_count": 8,
   "metadata": {
    "collapsed": false
   },
   "outputs": [
    {
     "data": {
      "image/png": "[encoded data removed]",
      "text/plain": [
       "<matplotlib.figure.Figure at 0x107ecf7d0>"
      ]
     },
     "metadata": {},
     "output_type": "display_data"
    },
    {
     "data": {
      "text/plain": [
       "<sympy.plotting.plot.Plot at 0x109517fd0>"
      ]
     },
     "execution_count": 8,
     "metadata": {},
     "output_type": "execute_result"
    }
   ],
   "source": [
    "#An example of a discontinuity.\n",
    "func = x**2 - 2 * x + 1  #We need to explicitly multiple 2 and x, i.e. '2x' will not work\n",
    "sympy.plotting.plot(1/(x - 2), (x, 0, 4), ylim=(-10, 10))  \n",
    "#The syntax is function, (variable, left limit, right limit), constraints on the plot"
   ]
  },
  {
   "cell_type": "markdown",
   "metadata": {},
   "source": [
    "#### A familiar example\n",
    "Assume a function $f(x) = x^{2} - 2x + 1$.  Where are the discontinuities, if they exist?"
   ]
  },
  {
   "cell_type": "code",
   "execution_count": 9,
   "metadata": {
    "collapsed": false
   },
   "outputs": [
    {
     "data": {
      "image/png": "[encoded data removed]",
      "text/plain": [
       "<matplotlib.figure.Figure at 0x109715310>"
      ]
     },
     "metadata": {},
     "output_type": "display_data"
    },
    {
     "data": {
      "text/plain": [
       "<sympy.plotting.plot.Plot at 0x10959c8d0>"
      ]
     },
     "execution_count": 9,
     "metadata": {},
     "output_type": "execute_result"
    }
   ],
   "source": [
    "func = x ** 2 - 2 * x + 1\n",
    "sympy.plotting.plot(func, (x, -10, 10)) #That looks continuous, but maybe I am missing a discontinuity somewhere?"
   ]
  },
  {
   "cell_type": "code",
   "execution_count": 10,
   "metadata": {
    "collapsed": false
   },
   "outputs": [
    {
     "data": {
      "image/png": "[encoded data removed]",
      "text/plain": [
       "<matplotlib.figure.Figure at 0x10980c1d0>"
      ]
     },
     "metadata": {},
     "output_type": "display_data"
    },
    {
     "data": {
      "text/plain": [
       "<sympy.plotting.plot.Plot at 0x107ecf3d0>"
      ]
     },
     "execution_count": 10,
     "metadata": {},
     "output_type": "execute_result"
    }
   ],
   "source": [
    "sympy.plotting.plot(func, (x, -100, 100)) #Still looks continious..."
   ]
  },
  {
   "cell_type": "markdown",
   "metadata": {},
   "source": [
    "# Extrema\n",
    "Using the same symbolic notation, it is possible to search for extrema to a function\n",
    "\n",
    "Assume a function $f(x) = -2 * x^{2} + 4x$."
   ]
  },
  {
   "cell_type": "code",
   "execution_count": 11,
   "metadata": {
    "collapsed": false
   },
   "outputs": [
    {
     "name": "stdout",
     "output_type": "stream",
     "text": [
      "The derivative of the function is -4*x + 4\n",
      "The extrema is/are [1]\n",
      "True\n"
     ]
    }
   ],
   "source": [
    "x = sympy.Symbol('x', real=True) #Now we force x to be a real number\n",
    "func = -2 * x**2 + 4*x #Define the function\n",
    "fprime = func.diff(x) #Derivative of the function\n",
    "print 'The derivative of the function is {}'.format(fprime)\n",
    "extrema = sympy.solve(fprime, x) #Solve the equation\n",
    "print 'The extrema is/are {}'.format(extrema)\n",
    "\n",
    "#Now check that the solution is a maximizer and not a minimizer of f(x)\n",
    "print func.diff(x).diff(x) < 0"
   ]
  },
  {
   "cell_type": "code",
   "execution_count": null,
   "metadata": {
    "collapsed": true
   },
   "outputs": [],
   "source": []
  }
 ],
 "metadata": {
  "kernelspec": {
   "display_name": "Python 2",
   "language": "python",
   "name": "python2"
  },
  "language_info": {
   "codemirror_mode": {
    "name": "ipython",
    "version": 2
   },
   "file_extension": ".py",
   "mimetype": "text/x-python",
   "name": "python",
   "nbconvert_exporter": "python",
   "pygments_lexer": "ipython2",
   "version": "2.7.10"
  }
 },
 "nbformat": 4,
 "nbformat_minor": 0
}
