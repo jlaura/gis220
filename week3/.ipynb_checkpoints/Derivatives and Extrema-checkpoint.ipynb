{
 "cells": [
  {
   "cell_type": "markdown",
   "metadata": {},
   "source": [
    "# Derivatives"
   ]
  },
  {
   "cell_type": "code",
   "execution_count": 1,
   "metadata": {
    "collapsed": false
   },
   "outputs": [
    {
     "name": "stdout",
     "output_type": "stream",
     "text": [
      "Populating the interactive namespace from numpy and matplotlib\n"
     ]
    }
   ],
   "source": [
    "%pylab inline\n",
    "import sympy"
   ]
  },
  {
   "cell_type": "markdown",
   "metadata": {},
   "source": [
    "First, a simple example.\n",
    "\n",
    "Differentiate $x^{2}$"
   ]
  },
  {
   "cell_type": "code",
   "execution_count": 2,
   "metadata": {
    "collapsed": false
   },
   "outputs": [
    {
     "data": {
      "image/png": "[encoded data removed]",
      "text/plain": [
       "<matplotlib.figure.Figure at 0x108c48dd0>"
      ]
     },
     "metadata": {},
     "output_type": "display_data"
    },
    {
     "name": "stdout",
     "output_type": "stream",
     "text": [
      "The  first derivative is 2*x\n"
     ]
    }
   ],
   "source": [
    "x = sympy.Symbol('x') # Define the symbol\n",
    "func = x**2\n",
    "\n",
    "#First plot\n",
    "sympy.plotting.plot(func, (x, -10, 10))\n",
    "\n",
    "#Then differentiate\n",
    "deriv = sympy.diff(func, x)\n",
    "print 'The  first derivative is {}'.format(deriv)"
   ]
  },
  {
   "cell_type": "markdown",
   "metadata": {},
   "source": [
    "### Multiple derivitives\n",
    "It is possible to take multiple derivatives using the same synatx.\n",
    "\n",
    "Differentiate $x^{4} + 3x^{3} - 2x^{2} + 5$"
   ]
  },
  {
   "cell_type": "code",
   "execution_count": 3,
   "metadata": {
    "collapsed": false
   },
   "outputs": [
    {
     "name": "stdout",
     "output_type": "stream",
     "text": [
      "First derivative: 4*x**3 + 9*x**2 - 4*x\n",
      "Second derivative: 2*(6*x**2 + 9*x - 2)\n",
      "Third derivative: 6*(4*x + 3)\n",
      "Fourth derivative: 24\n",
      "Fifth derivative: 0\n"
     ]
    }
   ],
   "source": [
    "func = x ** 4 + 3 * x ** 3 - 2 * x ** 2 + 5\n",
    "\n",
    "#How many derivatives can we take before the result is 0?\n",
    "\n",
    "print 'First derivative: {}'.format(sympy.diff(func, x))\n",
    "print 'Second derivative: {}'.format(sympy.diff(func, x, x))\n",
    "print 'Third derivative: {}'.format(sympy.diff(func, x, x, x))\n",
    "print 'Fourth derivative: {}'.format(sympy.diff(func, x, x, x, x))\n",
    "print 'Fifth derivative: {}'.format(sympy.diff(func, x, x, x, x, x))"
   ]
  },
  {
   "cell_type": "markdown",
   "metadata": {},
   "source": [
    "### When the library fails us and we need to know what is happening under the hood\n",
    "Now a slightly more complex example:\n",
    "\n",
    "Differentiate $\\frac{1}{7x^{2}}$"
   ]
  },
  {
   "cell_type": "code",
   "execution_count": 4,
   "metadata": {
    "collapsed": false
   },
   "outputs": [
    {
     "ename": "TypeError",
     "evalue": "cannot determine truth value of\nx < 0",
     "output_type": "error",
     "traceback": [
      "\u001b[0;31m---------------------------------------------------------------------------\u001b[0m",
      "\u001b[0;31mTypeError\u001b[0m                                 Traceback (most recent call last)",
      "\u001b[0;32m<ipython-input-4-7f606f12e0be>\u001b[0m in \u001b[0;36m<module>\u001b[0;34m()\u001b[0m\n\u001b[1;32m      1\u001b[0m \u001b[0;31m#This should fail with a TypeError stating: cannot determine truth value of x < 0\u001b[0m\u001b[0;34m\u001b[0m\u001b[0;34m\u001b[0m\u001b[0m\n\u001b[1;32m      2\u001b[0m \u001b[0mfunc\u001b[0m \u001b[0;34m=\u001b[0m \u001b[0;36m1\u001b[0m \u001b[0;34m/\u001b[0m \u001b[0;34m(\u001b[0m\u001b[0;36m7\u001b[0m \u001b[0;34m*\u001b[0m \u001b[0mx\u001b[0m \u001b[0;34m**\u001b[0m \u001b[0;36m2\u001b[0m\u001b[0;34m)\u001b[0m\u001b[0;34m\u001b[0m\u001b[0m\n\u001b[0;32m----> 3\u001b[0;31m \u001b[0mdiff\u001b[0m\u001b[0;34m(\u001b[0m\u001b[0mfunc\u001b[0m\u001b[0;34m,\u001b[0m \u001b[0mx\u001b[0m\u001b[0;34m)\u001b[0m\u001b[0;34m\u001b[0m\u001b[0m\n\u001b[0m",
      "\u001b[0;32m/usr/local/lib/python2.7/site-packages/numpy/lib/function_base.pyc\u001b[0m in \u001b[0;36mdiff\u001b[0;34m(a, n, axis)\u001b[0m\n\u001b[1;32m   1098\u001b[0m     \u001b[0;32mif\u001b[0m \u001b[0mn\u001b[0m \u001b[0;34m==\u001b[0m \u001b[0;36m0\u001b[0m\u001b[0;34m:\u001b[0m\u001b[0;34m\u001b[0m\u001b[0m\n\u001b[1;32m   1099\u001b[0m         \u001b[0;32mreturn\u001b[0m \u001b[0ma\u001b[0m\u001b[0;34m\u001b[0m\u001b[0m\n\u001b[0;32m-> 1100\u001b[0;31m     \u001b[0;32mif\u001b[0m \u001b[0mn\u001b[0m \u001b[0;34m<\u001b[0m \u001b[0;36m0\u001b[0m\u001b[0;34m:\u001b[0m\u001b[0;34m\u001b[0m\u001b[0m\n\u001b[0m\u001b[1;32m   1101\u001b[0m         raise ValueError(\n\u001b[1;32m   1102\u001b[0m             \"order must be non-negative but got \" + repr(n))\n",
      "\u001b[0;32m/Users/jlaura/anaconda/lib/python2.7/site-packages/sympy/core/relational.pyc\u001b[0m in \u001b[0;36m__nonzero__\u001b[0;34m(self)\u001b[0m\n\u001b[1;32m    101\u001b[0m \u001b[0;34m\u001b[0m\u001b[0m\n\u001b[1;32m    102\u001b[0m     \u001b[0;32mdef\u001b[0m \u001b[0m__nonzero__\u001b[0m\u001b[0;34m(\u001b[0m\u001b[0mself\u001b[0m\u001b[0;34m)\u001b[0m\u001b[0;34m:\u001b[0m\u001b[0;34m\u001b[0m\u001b[0m\n\u001b[0;32m--> 103\u001b[0;31m         \u001b[0;32mraise\u001b[0m \u001b[0mTypeError\u001b[0m\u001b[0;34m(\u001b[0m\u001b[0;34m\"cannot determine truth value of\\n%s\"\u001b[0m \u001b[0;34m%\u001b[0m \u001b[0mself\u001b[0m\u001b[0;34m)\u001b[0m\u001b[0;34m\u001b[0m\u001b[0m\n\u001b[0m\u001b[1;32m    104\u001b[0m \u001b[0;34m\u001b[0m\u001b[0m\n\u001b[1;32m    105\u001b[0m     \u001b[0m__bool__\u001b[0m \u001b[0;34m=\u001b[0m \u001b[0m__nonzero__\u001b[0m\u001b[0;34m\u001b[0m\u001b[0m\n",
      "\u001b[0;31mTypeError\u001b[0m: cannot determine truth value of\nx < 0"
     ]
    }
   ],
   "source": [
    "#This should fail with a TypeError stating: cannot determine truth value of x < 0\n",
    "func = 1 / (7 * x ** 2)\n",
    "diff(func, x)"
   ]
  },
  {
   "cell_type": "markdown",
   "metadata": {},
   "source": [
    "Maybe plotting the function will help (though the $x$ in the denominator might be leaping off the screen)."
   ]
  },
  {
   "cell_type": "code",
   "execution_count": 5,
   "metadata": {
    "collapsed": false
   },
   "outputs": [
    {
     "data": {
      "image/png": "[encoded data removed]",
      "text/plain": [
       "<matplotlib.figure.Figure at 0x108ed5ad0>"
      ]
     },
     "metadata": {},
     "output_type": "display_data"
    },
    {
     "data": {
      "text/plain": [
       "<sympy.plotting.plot.Plot at 0x108d37490>"
      ]
     },
     "execution_count": 5,
     "metadata": {},
     "output_type": "execute_result"
    }
   ],
   "source": [
    "sympy.plotting.plot(func, (x, -10, 10))  \n",
    "#The y-limit varies each time the cell is run, so don't be surprised if the values vary"
   ]
  },
  {
   "cell_type": "code",
   "execution_count": 6,
   "metadata": {
    "collapsed": false
   },
   "outputs": [
    {
     "data": {
      "text/plain": [
       "-2/x**3"
      ]
     },
     "execution_count": 6,
     "metadata": {},
     "output_type": "execute_result"
    }
   ],
   "source": [
    "#Maybe try factoring out the constants\n",
    "func = 1 / x**2\n",
    "#Then it appears sympy applies the power rule\n",
    "deriv = sympy.diff(func,x)\n",
    "deriv"
   ]
  },
  {
   "cell_type": "markdown",
   "metadata": {},
   "source": [
    "And then simplyify:\n",
    "\n",
    "$\\frac{1}{7} * (\\frac{-2}{x^{3}})$"
   ]
  },
  {
   "cell_type": "markdown",
   "metadata": {},
   "source": [
    "### Note: \n",
    "The important thing to note here is that the library provides a solution to most problems, but it is essential to understand _what_ is happening under the hood (or have a general idea of the implementation) and then you can start to answer _why_ something might not be working.\n",
    "\n",
    "This is the reason to do these by hand first."
   ]
  },
  {
   "cell_type": "markdown",
   "metadata": {},
   "source": [
    "# Extrema\n",
    "Finding extrema is a bit harder due to issues with numerical representation and issues of contraining bounds."
   ]
  },
  {
   "cell_type": "code",
   "execution_count": 7,
   "metadata": {
    "collapsed": true
   },
   "outputs": [],
   "source": [
    "import scipy.optimize as optimize"
   ]
  },
  {
   "cell_type": "code",
   "execution_count": 8,
   "metadata": {
    "collapsed": false
   },
   "outputs": [
    {
     "name": "stdout",
     "output_type": "stream",
     "text": [
      "Optimization terminated successfully.\n",
      "         Current function value: -2.000000\n",
      "         Iterations: 25\n",
      "         Function evaluations: 50\n",
      "[ 1.]\n"
     ]
    }
   ],
   "source": [
    "def f(x):\n",
    "    return -2 * x**2 + 4*x\n",
    "max_x = optimize.fmin(lambda x: -f(x), 0)\n",
    "print max_x"
   ]
  },
  {
   "cell_type": "markdown",
   "metadata": {},
   "source": [
    "So, what is going on here?\n",
    "\n",
    "1. We have to define the function (math) differently, because symbolic notation (sympy) does not natively support finding extrema.  This happens in the function (computer science):\n",
    "        def f(x):\n",
    "            return -2 * x**2 + 4*x\n",
    "2. Next scipy.optimize is used to apply some search method to finding the minima of the function (`fmin`).  Note that we want the maxima, so $-f(x)$.\n",
    "3. Finally, the scipy.optimize.fmin call takes a function as the first argument.  This is accomplished by passing in a lambda function.  The scipy call also needs an initial guess (we will see this much more after the midterm; the need to have an initial guess or initial feasible solution). \n"
   ]
  },
  {
   "cell_type": "code",
   "execution_count": null,
   "metadata": {
    "collapsed": true
   },
   "outputs": [],
   "source": []
  }
 ],
 "metadata": {
  "kernelspec": {
   "display_name": "Python 2",
   "language": "python",
   "name": "python2"
  },
  "language_info": {
   "codemirror_mode": {
    "name": "ipython",
    "version": 2
   },
   "file_extension": ".py",
   "mimetype": "text/x-python",
   "name": "python",
   "nbconvert_exporter": "python",
   "pygments_lexer": "ipython2",
   "version": "2.7.10"
  }
 },
 "nbformat": 4,
 "nbformat_minor": 0
}
