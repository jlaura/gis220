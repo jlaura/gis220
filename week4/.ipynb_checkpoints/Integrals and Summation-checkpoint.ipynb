{
 "cells": [
  {
   "cell_type": "markdown",
   "metadata": {},
   "source": [
    "# Integration and Summation"
   ]
  },
  {
   "cell_type": "markdown",
   "metadata": {},
   "source": [
    "## Indefinite Integrals\n",
    "\n",
    "(As usual, this should look familiar)\n",
    "\n",
    "$\\int(1+ 2y - 3y^{2})dy$"
   ]
  },
  {
   "cell_type": "code",
   "execution_count": 1,
   "metadata": {
    "collapsed": false
   },
   "outputs": [
    {
     "name": "stdout",
     "output_type": "stream",
     "text": [
      "Populating the interactive namespace from numpy and matplotlib\n"
     ]
    }
   ],
   "source": [
    "%pylab inline\n",
    "import sympy"
   ]
  },
  {
   "cell_type": "code",
   "execution_count": 2,
   "metadata": {
    "collapsed": false
   },
   "outputs": [
    {
     "data": {
      "text/plain": [
       "-y**3 + y**2 + y"
      ]
     },
     "execution_count": 2,
     "metadata": {},
     "output_type": "execute_result"
    }
   ],
   "source": [
    "#Create the function\n",
    "y = sympy.Symbol('y')\n",
    "func = 1 + 2 * y -3*y**2\n",
    "sympy.integrate(func, y)"
   ]
  },
  {
   "cell_type": "markdown",
   "metadata": {},
   "source": [
    "Looks pretty good: $-y^{3} + y{2} + y$"
   ]
  },
  {
   "cell_type": "markdown",
   "metadata": {
    "collapsed": false
   },
   "source": [
    "Now a plot, so that it is possible to see what the function looks like."
   ]
  },
  {
   "cell_type": "code",
   "execution_count": 3,
   "metadata": {
    "collapsed": false
   },
   "outputs": [
    {
     "data": {
      "image/png": "[encoded data removed]",
      "text/plain": [
       "<matplotlib.figure.Figure at 0x109d49810>"
      ]
     },
     "metadata": {},
     "output_type": "display_data"
    },
    {
     "data": {
      "text/plain": [
       "<sympy.plotting.plot.Plot at 0x1068432d0>"
      ]
     },
     "execution_count": 3,
     "metadata": {},
     "output_type": "execute_result"
    }
   ],
   "source": [
    "sympy.plotting.plot(func, (y, -4, 4))"
   ]
  },
  {
   "cell_type": "markdown",
   "metadata": {},
   "source": [
    "## Definite Integrals\n",
    "Sympy does not, out of the box support definite integrals.  A bit of googling turned up a work around.\n",
    "\n",
    "(Again familiar)\n",
    "\n",
    "$\\int_{-1}^{1}(x^{2} -2)dx$"
   ]
  },
  {
   "cell_type": "code",
   "execution_count": 5,
   "metadata": {
    "collapsed": false
   },
   "outputs": [
    {
     "name": "stdout",
     "output_type": "stream",
     "text": [
      "x**2 - 2\n",
      "x\n",
      "The definite integral is -3.33333333333333\n"
     ]
    }
   ],
   "source": [
    "x = sympy.Symbol('x')\n",
    "func = x ** 2 - 2\n",
    "indef = sympy.Integral(func)\n",
    "to_be_integrated, (free_var,) = indef.args\n",
    "print to_be_integrated  #What is the function we are working with?\n",
    "print free_var #What is the variable(s) we are working with?\n",
    "definite = sympy.Integral(to_be_integrated, (free_var, -1, 1))\n",
    "print 'The definite integral is {}'.format(definite.evalf()) #Evaluate the integral"
   ]
  },
  {
   "cell_type": "markdown",
   "metadata": {},
   "source": [
    "Note that the above can fail (well not the above example, but a more complex example) because of how the underlying code is working.  Just a heads up that plugging in a different function or different bounds can cause issues."
   ]
  },
  {
   "cell_type": "markdown",
   "metadata": {},
   "source": [
    "## Summation\n",
    "Python makes summations quite easy.  Here is a GIScience example - mean nearest neighbor distance.  \n",
    "\n",
    "$\\bar{d}_{min} = \\frac{\\sum_{i=1}^{n} d_{min}(s_{i})}{n}$"
   ]
  },
  {
   "cell_type": "code",
   "execution_count": 6,
   "metadata": {
    "collapsed": false
   },
   "outputs": [
    {
     "data": {
      "text/plain": [
       "[<matplotlib.lines.Line2D at 0x10a0bef50>]"
      ]
     },
     "execution_count": 6,
     "metadata": {},
     "output_type": "execute_result"
    },
    {
     "data": {
      "image/png": "[encoded data removed]",
      "text/plain": [
       "<matplotlib.figure.Figure at 0x109ed52d0>"
      ]
     },
     "metadata": {},
     "output_type": "display_data"
    }
   ],
   "source": [
    "#lets cook some data\n",
    "pts = np.random.random((100,2))\n",
    "plot(pts.T[0], pts.T[1], 'o')"
   ]
  },
  {
   "cell_type": "code",
   "execution_count": 7,
   "metadata": {
    "collapsed": false
   },
   "outputs": [],
   "source": [
    "import math\n",
    "#We will use euclidean distance (and a brute force implementation)\n",
    "nearest = []\n",
    "for i, row in enumerate(pts):\n",
    "    closest = float(inf)  #Set an infinitely large closest\n",
    "    for j, other_row in enumerate(pts):\n",
    "        if i == j: #Check for self neighbor (distance will always be zero)\n",
    "            continue\n",
    "        #Euclidean distance\n",
    "        distance = math.sqrt((row[0] - other_row[0])**2 + (row[1] - other_row[1])**2)\n",
    "\n",
    "        #Is the newly computed distance the closest point?\n",
    "        if distance < closest:\n",
    "            closest = distance\n",
    "            \n",
    "    nearest.append(closest)"
   ]
  },
  {
   "cell_type": "markdown",
   "metadata": {},
   "source": [
    "Now we have $d_{min} \\forall n$, or all the minimum distances for all observations.  So we just need the average. "
   ]
  },
  {
   "cell_type": "code",
   "execution_count": 8,
   "metadata": {
    "collapsed": false
   },
   "outputs": [
    {
     "name": "stdout",
     "output_type": "stream",
     "text": [
      "The sum is 5.03256744084\n",
      "Mean nearest neighbor is 0.0503256744084\n"
     ]
    }
   ],
   "source": [
    "#Summation\n",
    "total = 0\n",
    "for i in nearest:\n",
    "    total += i\n",
    "print 'The sum is {}'.format(total)\n",
    "n = len(nearest)\n",
    "print 'Mean nearest neighbor is {}'.format(total / n)"
   ]
  },
  {
   "cell_type": "code",
   "execution_count": 9,
   "metadata": {
    "collapsed": false
   },
   "outputs": [
    {
     "name": "stdout",
     "output_type": "stream",
     "text": [
      "0.0503256744084\n"
     ]
    }
   ],
   "source": [
    "#We can do this more easily:\n",
    "mean_nearest = sum(nearest) / float(n)  #Make sure n is a float so we get float division\n",
    "print mean_nearest"
   ]
  },
  {
   "cell_type": "markdown",
   "metadata": {},
   "source": [
    "Now we can start looking for those points wich might deviate from the mean.  This is now into the GIScience domain."
   ]
  },
  {
   "cell_type": "code",
   "execution_count": null,
   "metadata": {
    "collapsed": true
   },
   "outputs": [],
   "source": []
  }
 ],
 "metadata": {
  "kernelspec": {
   "display_name": "Python 2",
   "language": "python",
   "name": "python2"
  },
  "language_info": {
   "codemirror_mode": {
    "name": "ipython",
    "version": 2
   },
   "file_extension": ".py",
   "mimetype": "text/x-python",
   "name": "python",
   "nbconvert_exporter": "python",
   "pygments_lexer": "ipython2",
   "version": "2.7.10"
  }
 },
 "nbformat": 4,
 "nbformat_minor": 0
}
