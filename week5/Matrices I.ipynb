{
 "cells": [
  {
   "cell_type": "markdown",
   "metadata": {},
   "source": [
    "# Matrices I\n",
    "\n",
    "This week is a general introduction to matrices.  The next two weeks will provide more in-depth review of the linear algebra techniques that compose the majority of the second portion of the course.\n",
    "\n",
    "The prime library for working with matrices in Python is NumPy."
   ]
  },
  {
   "cell_type": "code",
   "execution_count": 1,
   "metadata": {
    "collapsed": false
   },
   "outputs": [
    {
     "name": "stdout",
     "output_type": "stream",
     "text": [
      "Populating the interactive namespace from numpy and matplotlib\n"
     ]
    }
   ],
   "source": [
    "%pylab inline"
   ]
  },
  {
   "cell_type": "code",
   "execution_count": 2,
   "metadata": {
    "collapsed": true
   },
   "outputs": [],
   "source": [
    "a = np.random.randint(0,10,(3,4))"
   ]
  },
  {
   "cell_type": "markdown",
   "metadata": {},
   "source": [
    "Element-wise mathematics work on the NumPy ndarray entry."
   ]
  },
  {
   "cell_type": "code",
   "execution_count": 6,
   "metadata": {
    "collapsed": false
   },
   "outputs": [
    {
     "name": "stdout",
     "output_type": "stream",
     "text": [
      "[[6 0 8 4]\n",
      " [9 2 0 6]\n",
      " [6 9 0 3]]\n",
      "[[30  0 40 20]\n",
      " [45 10  0 30]\n",
      " [30 45  0 15]]\n"
     ]
    }
   ],
   "source": [
    "print a\n",
    "print (5 * a)"
   ]
  },
  {
   "cell_type": "markdown",
   "metadata": {},
   "source": [
    "Array manipulation is possible using either methods that are avialable from the ndarray class, or from user functions.  Take for example, transposition:"
   ]
  },
  {
   "cell_type": "code",
   "execution_count": 7,
   "metadata": {
    "collapsed": false
   },
   "outputs": [
    {
     "name": "stdout",
     "output_type": "stream",
     "text": [
      "[[6 0 8 4]\n",
      " [9 2 0 6]\n",
      " [6 9 0 3]]\n"
     ]
    }
   ],
   "source": [
    "print a"
   ]
  },
  {
   "cell_type": "code",
   "execution_count": 8,
   "metadata": {
    "collapsed": false
   },
   "outputs": [
    {
     "name": "stdout",
     "output_type": "stream",
     "text": [
      "[[6 9 6]\n",
      " [0 2 9]\n",
      " [8 0 0]\n",
      " [4 6 3]]\n"
     ]
    }
   ],
   "source": [
    "print a.T"
   ]
  },
  {
   "cell_type": "code",
   "execution_count": 9,
   "metadata": {
    "collapsed": false
   },
   "outputs": [
    {
     "name": "stdout",
     "output_type": "stream",
     "text": [
      "[[6 9 6]\n",
      " [0 2 9]\n",
      " [8 0 0]\n",
      " [4 6 3]]\n"
     ]
    }
   ],
   "source": [
    "print np.transpose(a)"
   ]
  },
  {
   "cell_type": "markdown",
   "metadata": {},
   "source": [
    "In the case of 'simple' operations, such as addition, subtraction, or transposition, it is safe to use the NumPy array class.  This does not hold true for multiplications.  For example:"
   ]
  },
  {
   "cell_type": "code",
   "execution_count": 16,
   "metadata": {
    "collapsed": false
   },
   "outputs": [
    {
     "name": "stdout",
     "output_type": "stream",
     "text": [
      "A =  [[ 1 -5 -1]\n",
      " [ 2  3 -4]\n",
      " [ 4 -3  4]\n",
      " [-3 -4 -1]]\n",
      "\n",
      "B =  [[-2 -5 -5 -3]\n",
      " [-5 -3  0 -3]\n",
      " [-5  3  0  1]]\n"
     ]
    }
   ],
   "source": [
    "#Make two random ndarrays\n",
    "a = np.random.randint(-5, 5, (4,3))\n",
    "b = np.random.randint(-5, 5, (3,4))\n",
    "print 'A = ', a\n",
    "print\n",
    "print 'B = ', b"
   ]
  },
  {
   "cell_type": "code",
   "execution_count": 19,
   "metadata": {
    "collapsed": false
   },
   "outputs": [
    {
     "ename": "ValueError",
     "evalue": "operands could not be broadcast together with shapes (4,3) (3,4) ",
     "output_type": "error",
     "traceback": [
      "\u001b[0;31m---------------------------------------------------------------------------\u001b[0m",
      "\u001b[0;31mValueError\u001b[0m                                Traceback (most recent call last)",
      "\u001b[0;32m<ipython-input-19-4081d5918cb8>\u001b[0m in \u001b[0;36m<module>\u001b[0;34m()\u001b[0m\n\u001b[1;32m      1\u001b[0m \u001b[0;31m#This will fail\u001b[0m\u001b[0;34m\u001b[0m\u001b[0;34m\u001b[0m\u001b[0m\n\u001b[0;32m----> 2\u001b[0;31m \u001b[0;32mprint\u001b[0m \u001b[0ma\u001b[0m \u001b[0;34m*\u001b[0m \u001b[0mb\u001b[0m\u001b[0;34m\u001b[0m\u001b[0m\n\u001b[0m",
      "\u001b[0;31mValueError\u001b[0m: operands could not be broadcast together with shapes (4,3) (3,4) "
     ]
    }
   ],
   "source": [
    "#This will fail\n",
    "print a * b"
   ]
  },
  {
   "cell_type": "markdown",
   "metadata": {},
   "source": [
    "Here NumPy fails, because it is trying to broadcase the arrays to find a common shape.  We are expecting to work with matrices through..."
   ]
  },
  {
   "cell_type": "code",
   "execution_count": 20,
   "metadata": {
    "collapsed": true
   },
   "outputs": [],
   "source": [
    "a = np.matrix(a)\n",
    "b = np.matrix(b)"
   ]
  },
  {
   "cell_type": "code",
   "execution_count": 21,
   "metadata": {
    "collapsed": false
   },
   "outputs": [
    {
     "data": {
      "text/plain": [
       "matrix([[ 28,   7,  -5,  11],\n",
       "        [  1, -31, -10, -19],\n",
       "        [-13,   1, -20,   1],\n",
       "        [ 31,  24,  15,  20]])"
      ]
     },
     "execution_count": 21,
     "metadata": {},
     "output_type": "execute_result"
    }
   ],
   "source": [
    "a * b"
   ]
  },
  {
   "cell_type": "markdown",
   "metadata": {},
   "source": [
    "Now were are working with matrices and the mathematics are as one would expect.  We also gain access to methods that you might expect to be available when working with matrices."
   ]
  },
  {
   "cell_type": "markdown",
   "metadata": {},
   "source": [
    "## Graphing\n",
    "\n",
    "Under the hood, sympy was using matplotlib for all graphing.  We will now use matplotlib directly to visualize vectors.  \n",
    "\n",
    "Take for example:\n",
    "\n",
    "A = $\\begin{bmatrix}\n",
    "  3 & 4\n",
    " \\end{bmatrix}\n",
    "$\n",
    "\n",
    "and\n",
    "\n",
    "B = $\\begin{bmatrix}\n",
    "  1 \\\\ \n",
    "  7\n",
    " \\end{bmatrix}\n",
    "$\n",
    "\n",
    "What do these two vectors look like?  What do mathematical operation using these vectors result in geometrically?"
   ]
  },
  {
   "cell_type": "code",
   "execution_count": 35,
   "metadata": {
    "collapsed": false
   },
   "outputs": [
    {
     "name": "stdout",
     "output_type": "stream",
     "text": [
      "(3,) (4,)\n"
     ]
    },
    {
     "data": {
      "image/png": "[encoded data removed]",
      "text/plain": [
       "<matplotlib.figure.Figure at 0x108eaae50>"
      ]
     },
     "metadata": {},
     "output_type": "display_data"
    }
   ],
   "source": [
    "soa =np.array([[3,4]]) #The vector components\n",
    "U,V = zip(*soa)\n",
    "print U, V #Unpack the components\n",
    "plt.figure() #Grab the plot\n",
    "ax = plt.gca() # and the currently active subplot\n",
    "ax.quiver(U,V,angles='xy',scale_units='xy',scale=1) #Create the 'arrow'\n",
    "ax.set_xlim([-1,10]) #Constrian the plot\n",
    "ax.set_ylim([-1,10])\n",
    "plt.draw() #Draw the plot\n",
    "plt.show()"
   ]
  },
  {
   "cell_type": "markdown",
   "metadata": {},
   "source": [
    "Now both vectors"
   ]
  },
  {
   "cell_type": "code",
   "execution_count": 36,
   "metadata": {
    "collapsed": false
   },
   "outputs": [
    {
     "name": "stdout",
     "output_type": "stream",
     "text": [
      "(3, 1) (4, 7)\n"
     ]
    },
    {
     "data": {
      "image/png": "[encoded data removed]",
      "text/plain": [
       "<matplotlib.figure.Figure at 0x108d7ce10>"
      ]
     },
     "metadata": {},
     "output_type": "display_data"
    }
   ],
   "source": [
    "soa =np.array([[3,4], [1,7]]) #The vector components\n",
    "U,V = zip(*soa)\n",
    "print U, V #Unpack the components\n",
    "plt.figure() #Grab the plot\n",
    "ax = plt.gca() # and the currently active subplot\n",
    "ax.quiver(U,V,angles='xy',scale_units='xy',scale=1) #Create the 'arrow'\n",
    "ax.set_xlim([-1,10]) #Constrian the plot\n",
    "ax.set_ylim([-1,10])\n",
    "plt.draw() #Draw the plot\n",
    "plt.show()"
   ]
  },
  {
   "cell_type": "markdown",
   "metadata": {},
   "source": [
    "How then can we plot the geometric relationship between these?  What does $A + B$ look like?"
   ]
  },
  {
   "cell_type": "code",
   "execution_count": null,
   "metadata": {
    "collapsed": true
   },
   "outputs": [],
   "source": []
  }
 ],
 "metadata": {
  "kernelspec": {
   "display_name": "Python 2",
   "language": "python",
   "name": "python2"
  },
  "language_info": {
   "codemirror_mode": {
    "name": "ipython",
    "version": 2
   },
   "file_extension": ".py",
   "mimetype": "text/x-python",
   "name": "python",
   "nbconvert_exporter": "python",
   "pygments_lexer": "ipython2",
   "version": "2.7.10"
  }
 },
 "nbformat": 4,
 "nbformat_minor": 0
}
